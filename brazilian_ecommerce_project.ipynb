{
 "cells": [
  {
   "cell_type": "code",
   "execution_count": 5,
   "metadata": {},
   "outputs": [],
   "source": [
    "import numpy as np\n",
    "import pandas as pd\n",
    "import matplotlib.pyplot as plt\n",
    "import statsmodels.api as sm\n",
    "import statsmodels.formula.api as smf\n",
    "import seaborn as sns\n",
    "from datetime import date "
   ]
  },
  {
   "cell_type": "code",
   "execution_count": 7,
   "metadata": {},
   "outputs": [],
   "source": [
    "olist = pd.read_csv('/Users/galvanize/Documents/regression/olist/sql.csv')"
   ]
  },
  {
   "cell_type": "code",
   "execution_count": 9,
   "metadata": {},
   "outputs": [
    {
     "name": "stdout",
     "output_type": "stream",
     "text": [
      "<class 'pandas.core.frame.DataFrame'>\n",
      "RangeIndex: 2628 entries, 0 to 2627\n",
      "Data columns (total 17 columns):\n",
      "customer_unique_id          2628 non-null object\n",
      "customer_id                 2628 non-null object\n",
      "customer_zip_code_prefix    2628 non-null int64\n",
      "customer_city               2628 non-null object\n",
      "customer_state              2628 non-null object\n",
      "order_id                    2628 non-null object\n",
      "order_status                2628 non-null object\n",
      "order_purchase_timestamp    2628 non-null object\n",
      "payment_sequential          2628 non-null int64\n",
      "payment_type                2628 non-null object\n",
      "payment_installments        2628 non-null int64\n",
      "payment_value               2628 non-null float64\n",
      "duplicate_product           2628 non-null int64\n",
      "product_id                  2628 non-null object\n",
      "seller_id                   2628 non-null object\n",
      "price                       2628 non-null float64\n",
      "freight_value               2628 non-null float64\n",
      "dtypes: float64(3), int64(4), object(10)\n",
      "memory usage: 349.2+ KB\n"
     ]
    }
   ],
   "source": [
    "olist.info()"
   ]
  },
  {
   "cell_type": "code",
   "execution_count": 11,
   "metadata": {},
   "outputs": [
    {
     "data": {
      "image/png": "[encoded data removed]",
      "text/plain": [
       "<Figure size 432x288 with 1 Axes>"
      ]
     },
     "metadata": {},
     "output_type": "display_data"
    }
   ],
   "source": [
    "sns.set(style=\"whitegrid\")\n",
    "ax = sns.barplot(x=\"product_id\", y=\"price\", data=olist)"
   ]
  },
  {
   "cell_type": "code",
   "execution_count": null,
   "metadata": {},
   "outputs": [],
   "source": []
  }
 ],
 "metadata": {
  "kernelspec": {
   "display_name": "Python 3",
   "language": "python",
   "name": "python3"
  },
  "language_info": {
   "codemirror_mode": {
    "name": "ipython",
    "version": 3
   },
   "file_extension": ".py",
   "mimetype": "text/x-python",
   "name": "python",
   "nbconvert_exporter": "python",
   "pygments_lexer": "ipython3",
   "version": "3.7.3"
  }
 },
 "nbformat": 4,
 "nbformat_minor": 2
}
